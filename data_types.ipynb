{
 "cells": [
  {
   "cell_type": "code",
   "execution_count": 6,
   "id": "011cacd4",
   "metadata": {},
   "outputs": [
    {
     "name": "stdout",
     "output_type": "stream",
     "text": [
      "1\n",
      "1.0\n",
      "(1+0j)\n"
     ]
    }
   ],
   "source": [
    "# Integer\n",
    "a = 1\n",
    "print(a)\n",
    "b=float(a)\n",
    "print(b)\n",
    "c=complex(b)\n",
    "print(c)"
   ]
  },
  {
   "cell_type": "code",
   "execution_count": 7,
   "id": "e4698e80",
   "metadata": {},
   "outputs": [
    {
     "name": "stdout",
     "output_type": "stream",
     "text": [
      "hello\n"
     ]
    }
   ],
   "source": [
    "#string\n",
    "d='hello'\n",
    "print(d)"
   ]
  },
  {
   "cell_type": "code",
   "execution_count": 21,
   "id": "2e819f6d",
   "metadata": {},
   "outputs": [
    {
     "name": "stdout",
     "output_type": "stream",
     "text": [
      "[1, 2, 3, 5, 6]\n",
      "2\n",
      "hello11111\n",
      "('hello', 'this', 1)\n",
      "hello\n",
      "[0, 1, 2, 3, 4, 5, 6, 7, 8, 9]\n"
     ]
    }
   ],
   "source": [
    "#sequentail data types\n",
    "#list\n",
    "e=[1,2,3,5,6]\n",
    "print(e)\n",
    "print(e[1])\n",
    "e[1]='hello11111'\n",
    "print(e[1])\n",
    "\n",
    "#Tuple\n",
    "f=('hello', 'this', 1)\n",
    "print(f)\n",
    "print(f[0])\n",
    "# f[0] = 'hola'\n",
    "# print(f[0])\n",
    "\n",
    "#range\n",
    "g = range(0,10,1)\n",
    "print(list(g))"
   ]
  },
  {
   "cell_type": "code",
   "execution_count": 22,
   "id": "d0f0426e",
   "metadata": {},
   "outputs": [
    {
     "name": "stdout",
     "output_type": "stream",
     "text": [
      "{'name': 'kishore', 'age': '32'}\n"
     ]
    }
   ],
   "source": [
    "#maping variables\n",
    "#dict\n",
    "\n",
    "h={'name': 'kishore', \"age\" : '32'}\n",
    "print(h)"
   ]
  },
  {
   "cell_type": "code",
   "execution_count": null,
   "id": "a0b56202",
   "metadata": {},
   "outputs": [
    {
     "ename": "SyntaxError",
     "evalue": "invalid syntax (3144586179.py, line 2)",
     "output_type": "error",
     "traceback": [
      "\u001b[0;36m  Cell \u001b[0;32mIn[24], line 2\u001b[0;36m\u001b[0m\n\u001b[0;31m    my_set = {1, 2, ,'hbh',3, 4, 5}\u001b[0m\n\u001b[0m                    ^\u001b[0m\n\u001b[0;31mSyntaxError\u001b[0m\u001b[0;31m:\u001b[0m invalid syntax\n"
     ]
    }
   ],
   "source": [
    "#set types\n",
    "my_set = {1, 2, ,3, 4, 5}\n",
    "print(f\"Initial set: {my_set}\")"
   ]
  },
  {
   "cell_type": "code",
   "execution_count": 25,
   "id": "f68f5cce",
   "metadata": {},
   "outputs": [
    {
     "name": "stdout",
     "output_type": "stream",
     "text": [
      "True False\n"
     ]
    }
   ],
   "source": [
    "#bool types\n",
    "i=True\n",
    "j=False\n",
    "print(i,j)"
   ]
  },
  {
   "cell_type": "code",
   "execution_count": null,
   "id": "585b6c05",
   "metadata": {},
   "outputs": [
    {
     "name": "stdout",
     "output_type": "stream",
     "text": [
      "b'hello'\n",
      "<class 'bytes'>\n",
      "104\n",
      "101\n",
      "108\n",
      "108\n",
      "111\n"
     ]
    }
   ],
   "source": [
    "#binary\n",
    "k = b'hello'\n",
    "print(k)\n",
    "print(type(k))\n",
    "for i in k:\n",
    "    print(i)"
   ]
  },
  {
   "cell_type": "code",
   "execution_count": 30,
   "id": "a6a6cc73",
   "metadata": {},
   "outputs": [
    {
     "name": "stdout",
     "output_type": "stream",
     "text": [
      "None\n",
      "<class 'NoneType'>\n"
     ]
    }
   ],
   "source": [
    "#none type\n",
    "l=None\n",
    "print(l)\n",
    "print(type(l))"
   ]
  }
 ],
 "metadata": {
  "kernelspec": {
   "display_name": "Python 3",
   "language": "python",
   "name": "python3"
  },
  "language_info": {
   "codemirror_mode": {
    "name": "ipython",
    "version": 3
   },
   "file_extension": ".py",
   "mimetype": "text/x-python",
   "name": "python",
   "nbconvert_exporter": "python",
   "pygments_lexer": "ipython3",
   "version": "3.10.8"
  }
 },
 "nbformat": 4,
 "nbformat_minor": 5
}
