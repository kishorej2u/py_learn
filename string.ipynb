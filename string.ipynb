{
 "cells": [
  {
   "cell_type": "code",
   "execution_count": 2,
   "id": "5b3a38be",
   "metadata": {},
   "outputs": [
    {
     "name": "stdout",
     "output_type": "stream",
     "text": [
      "printing string\n"
     ]
    }
   ],
   "source": [
    "#print string\n",
    "print('printing string')"
   ]
  },
  {
   "cell_type": "code",
   "execution_count": 3,
   "id": "314723e4",
   "metadata": {},
   "outputs": [
    {
     "name": "stdout",
     "output_type": "stream",
     "text": [
      "this is single \"quotes\"\n",
      "this is double 'quotes' \n",
      "this is kishore\"s \n"
     ]
    }
   ],
   "source": [
    "#quotes\n",
    "print('this is single \"quotes\"')\n",
    "print(\"this is double 'quotes' \")\n",
    "print('this is kishore\"s ')"
   ]
  },
  {
   "cell_type": "code",
   "execution_count": 6,
   "id": "4f071101",
   "metadata": {},
   "outputs": [
    {
     "name": "stdout",
     "output_type": "stream",
     "text": [
      "hello\n",
      "h\n"
     ]
    }
   ],
   "source": [
    "a= 'hello'\n",
    "print(a)\n",
    "print(a[0])"
   ]
  },
  {
   "cell_type": "code",
   "execution_count": 5,
   "id": "75538a2b",
   "metadata": {},
   "outputs": [
    {
     "name": "stdout",
     "output_type": "stream",
     "text": [
      "this is a multi \n",
      "    line string\n",
      "    hola\n"
     ]
    }
   ],
   "source": [
    "#multi line string\n",
    "b = '''this is a multi \n",
    "    line string\n",
    "    hola'''\n",
    "print(b)"
   ]
  },
  {
   "cell_type": "code",
   "execution_count": 7,
   "id": "2a47afa0",
   "metadata": {},
   "outputs": [
    {
     "name": "stdout",
     "output_type": "stream",
     "text": [
      "i\n",
      "n\n",
      "t\n",
      "e\n",
      "r\n",
      "s\n",
      "t\n",
      "e\n",
      "l\n",
      "l\n",
      "a\n",
      "r\n"
     ]
    }
   ],
   "source": [
    "c = 'interstellar'\n",
    "for i in c:\n",
    "    print(i)"
   ]
  },
  {
   "cell_type": "code",
   "execution_count": 8,
   "id": "ce30ce82",
   "metadata": {},
   "outputs": [
    {
     "name": "stdout",
     "output_type": "stream",
     "text": [
      "12\n"
     ]
    }
   ],
   "source": [
    "print(len(c))"
   ]
  },
  {
   "cell_type": "code",
   "execution_count": 9,
   "id": "591ec487",
   "metadata": {},
   "outputs": [
    {
     "name": "stdout",
     "output_type": "stream",
     "text": [
      "True\n"
     ]
    }
   ],
   "source": [
    "c='interstellar'\n",
    "print('inter' in c)"
   ]
  },
  {
   "cell_type": "code",
   "execution_count": 11,
   "id": "89d804a5",
   "metadata": {},
   "outputs": [
    {
     "name": "stdout",
     "output_type": "stream",
     "text": [
      "True\n",
      "No, 'expensive' is NOT present.\n"
     ]
    }
   ],
   "source": [
    "txt = \"The best things in life are free!\"\n",
    "print(\"expensive\" not in txt)\n",
    "\n",
    "txt = \"The best things in life are free!\"\n",
    "if \"expensive\" not in txt:\n",
    "  print(\"No, 'expensive' is NOT present.\")"
   ]
  },
  {
   "cell_type": "markdown",
   "id": "db3ca2f3",
   "metadata": {},
   "source": [
    "========================Slicing========================"
   ]
  },
  {
   "cell_type": "code",
   "execution_count": 26,
   "id": "557f135f",
   "metadata": {},
   "outputs": [
    {
     "name": "stdout",
     "output_type": "stream",
     "text": [
      "interstellar\n",
      "ter\n",
      "inter\n",
      "stellar\n",
      "interstella\n",
      "r\n",
      "interstellar\n",
      "ralletsretni\n"
     ]
    }
   ],
   "source": [
    "print(c)\n",
    "print(c[2:5])\n",
    "print(c[:5])\n",
    "print(c[5:])\n",
    "print(c[-12:-1])\n",
    "print(c[-1])\n",
    "print(c[::])\n",
    "print(c[::-1])"
   ]
  },
  {
   "cell_type": "code",
   "execution_count": 38,
   "id": "1a2636e9",
   "metadata": {},
   "outputs": [
    {
     "name": "stdout",
     "output_type": "stream",
     "text": [
      "INTER STELLAR \n",
      "inter stellar \n",
      "inter stellar \n",
      "nter stellar \n",
      "inter ste11ar \n",
      "inter stellar \n",
      "['int', 'r st', 'llar ']\n",
      "inter stellar \n"
     ]
    }
   ],
   "source": [
    "print(c.upper())\n",
    "print(c)\n",
    "print(c.lower())\n",
    "c='inter stellar '\n",
    "print(c.strip('i'))\n",
    "print(c.replace('l','1'))\n",
    "print(c)\n",
    "print(c.split('e'))\n",
    "print(c)\n"
   ]
  },
  {
   "cell_type": "code",
   "execution_count": 44,
   "id": "2c535729",
   "metadata": {},
   "outputs": [
    {
     "name": "stdout",
     "output_type": "stream",
     "text": [
      "hello arha\n",
      "arha is 2\n",
      "arha is 2\n",
      "The price is 1180 dollars\n"
     ]
    }
   ],
   "source": [
    "d = 'hello'\n",
    "e= 'arha'\n",
    "print(d+' '+e)\n",
    "age = 2\n",
    "f = f\"arha is {age}\"\n",
    "print(f)\n",
    "g = 'arha is ' + str(age)\n",
    "print(g)\n",
    "txt = f\"The price is {20 * 59} dollars\"\n",
    "print(txt)"
   ]
  },
  {
   "cell_type": "markdown",
   "id": "7ad047c5",
   "metadata": {},
   "source": [
    "##############\n",
    "Escape characters"
   ]
  },
  {
   "cell_type": "code",
   "execution_count": 53,
   "id": "d7710fd6",
   "metadata": {},
   "outputs": [
    {
     "name": "stdout",
     "output_type": "stream",
     "text": [
      "hel'o\n",
      "hel\n",
      "o\n",
      "hel\to\n",
      "oel\n",
      "--------\n",
      "hello\n",
      "abdef\n"
     ]
    }
   ],
   "source": [
    "a='hel\\'o'\n",
    "print(a)\n",
    "b='hel\\no'\n",
    "print(b)\n",
    "c='hel\\to'\n",
    "print(c)\n",
    "d='hel\\ro'\n",
    "print(d)\n",
    "print('--------')\n",
    "print('abc\\rdefg\\rhello')\n",
    "print('abc\\bdef')\n"
   ]
  },
  {
   "cell_type": "code",
   "execution_count": 73,
   "id": "3c9687d9",
   "metadata": {},
   "outputs": [
    {
     "name": "stdout",
     "output_type": "stream",
     "text": [
      "==============string methods===========\n",
      "Hello world\n",
      "hello world\n",
      "hello world\n",
      "====hello world=====\n",
      "3\n",
      "b'My name is St\\xc3\\xa5le'\n",
      "True\n",
      "H\te\tl\tl\to\n",
      "H       e       l       l       o\n",
      "H e l l o\n",
      "H  e  l  l  o\n",
      "H   e   l   l   o\n",
      "2\n"
     ]
    }
   ],
   "source": [
    "print('==============string methods===========')\n",
    "a='hello world'\n",
    "print(a.capitalize())\n",
    "print(a)\n",
    "print(a.casefold())\n",
    "print(a.center(20,'='))\n",
    "print(a.count('l'))\n",
    "txt = \"My name is Ståle\"\n",
    "\n",
    "x = txt.encode()\n",
    "\n",
    "print(x)\n",
    "\n",
    "\n",
    "\n",
    "print(a.endswith('rld'))\n",
    "txt = \"H\\te\\tl\\tl\\to\"\n",
    "\n",
    "print(txt)\n",
    "print(txt.expandtabs())\n",
    "print(txt.expandtabs(2))\n",
    "print(txt.expandtabs(3))\n",
    "print(txt.expandtabs(4))\n",
    "\n",
    "print(a.find('l'))"
   ]
  },
  {
   "cell_type": "code",
   "execution_count": 94,
   "id": "7a6a0c28",
   "metadata": {},
   "outputs": [
    {
     "name": "stdout",
     "output_type": "stream",
     "text": [
      "SamriddhiArha12\n",
      "3\n",
      "True\n",
      "True\n",
      "True\n",
      "True\n",
      "True\n",
      "True\n",
      "----------\n",
      "True\n",
      "True\n",
      "False\n",
      "False\n"
     ]
    }
   ],
   "source": [
    "a='SamriddhiArha12'\n",
    "print(a)\n",
    "print(a.index('riddhi'))\n",
    "print(a.isalnum())\n",
    "s='SamriddhiArha'\n",
    "print(s.isalpha())\n",
    "a='Samriddhi Arha12'\n",
    "\n",
    "print(a.isascii())\n",
    "b='12345678'\n",
    "print(b.isdecimal())\n",
    "print(b.isnumeric())\n",
    "print(b.isdigit())\n",
    "\n",
    "\n",
    "a = \"MyFolder\"\n",
    "b = \"Demo002\"\n",
    "c = \"2bring\"\n",
    "d = \"my demo\"\n",
    "print('----------')\n",
    "print(a.isidentifier())\n",
    "print(b.isidentifier())\n",
    "print(c.isidentifier())\n",
    "print(d.isidentifier())"
   ]
  },
  {
   "cell_type": "code",
   "execution_count": 100,
   "id": "59e03b30",
   "metadata": {},
   "outputs": [
    {
     "name": "stdout",
     "output_type": "stream",
     "text": [
      "True\n",
      "True\n",
      "True\n",
      "True\n"
     ]
    }
   ],
   "source": [
    "a='samriddhi'\n",
    "print(a.islower())\n",
    "a='1234567890'\n",
    "print(a.isnumeric())\n",
    "a=' '\n",
    "print(a.isspace())\n",
    "a='ARHA'\n",
    "print(a.isupper())"
   ]
  },
  {
   "cell_type": "code",
   "execution_count": 101,
   "id": "2f66c020",
   "metadata": {},
   "outputs": [
    {
     "name": "stdout",
     "output_type": "stream",
     "text": [
      "1ab4\n"
     ]
    }
   ],
   "source": [
    "b=['1','a','b','4']\n",
    "c=''.join(b)\n",
    "print(c)"
   ]
  },
  {
   "cell_type": "code",
   "execution_count": 114,
   "id": "a1f50d34",
   "metadata": {},
   "outputs": [
    {
     "name": "stdout",
     "output_type": "stream",
     "text": [
      "hello world*********\n",
      "  arha\n",
      "ARHA\n",
      "{65: 82}\n"
     ]
    },
    {
     "ename": "TypeError",
     "evalue": "str.translate() takes exactly one argument (2 given)",
     "output_type": "error",
     "traceback": [
      "\u001b[0;31m---------------------------------------------------------------------------\u001b[0m",
      "\u001b[0;31mTypeError\u001b[0m                                 Traceback (most recent call last)",
      "Cell \u001b[0;32mIn[114], line 8\u001b[0m\n\u001b[1;32m      6\u001b[0m b\u001b[38;5;241m=\u001b[39m\u001b[38;5;28mstr\u001b[39m\u001b[38;5;241m.\u001b[39mmaketrans(\u001b[38;5;124m\"\u001b[39m\u001b[38;5;124mA\u001b[39m\u001b[38;5;124m\"\u001b[39m,\u001b[38;5;124m'\u001b[39m\u001b[38;5;124mR\u001b[39m\u001b[38;5;124m'\u001b[39m)\n\u001b[1;32m      7\u001b[0m \u001b[38;5;28mprint\u001b[39m(b)\n\u001b[0;32m----> 8\u001b[0m \u001b[38;5;28mprint\u001b[39m(\u001b[43ma\u001b[49m\u001b[38;5;241;43m.\u001b[39;49m\u001b[43mtranslate\u001b[49m\u001b[43m(\u001b[49m\u001b[38;5;124;43m\"\u001b[39;49m\u001b[38;5;124;43mR\u001b[39;49m\u001b[38;5;124;43m\"\u001b[39;49m\u001b[43m,\u001b[49m\u001b[38;5;124;43m\"\u001b[39;49m\u001b[38;5;124;43mA\u001b[39;49m\u001b[38;5;124;43m\"\u001b[39;49m\u001b[43m)\u001b[49m)\n",
      "\u001b[0;31mTypeError\u001b[0m: str.translate() takes exactly one argument (2 given)"
     ]
    }
   ],
   "source": [
    "a = 'hello world'\n",
    "print(a.ljust(20,'*'))\n",
    "a=\"  ARHA\"\n",
    "print(a.lower())\n",
    "print(a.lstrip())\n",
    "b=str.maketrans(\"A\",'R')\n",
    "print(b)\n",
    "print(a.translate(\"R\",\"A\"))"
   ]
  },
  {
   "cell_type": "code",
   "execution_count": 131,
   "id": "b7c91773",
   "metadata": {},
   "outputs": [
    {
     "name": "stdout",
     "output_type": "stream",
     "text": [
      "hello arha\n",
      "('hell', 'o ', 'arha')\n",
      "heloooarha\n",
      "12\n",
      "12\n",
      "    hello world\n",
      "['hello', 'world']\n",
      "banana\n",
      "BANANA\n",
      "Banana\n"
     ]
    }
   ],
   "source": [
    "a='hello arha'\n",
    "print(a)\n",
    "print(a.partition('o '))\n",
    "print(a.replace('lo ','ooo'))\n",
    "\n",
    "txt = \"Mi casa, su casa.\"\n",
    "\n",
    "x = txt.rfind(\"casa\")\n",
    "y = txt.rindex('casa')\n",
    "\n",
    "print(x)\n",
    "print(y)\n",
    "\n",
    "a = 'hello world'\n",
    "print(a.rjust(15))\n",
    "print(a.split(' '))\n",
    "\n",
    "txt = \"     banana     \"\n",
    "\n",
    "x = txt.strip()\n",
    "print(x)\n",
    "print(x.swapcase())\n",
    "print(x.title())"
   ]
  }
 ],
 "metadata": {
  "kernelspec": {
   "display_name": "Python 3",
   "language": "python",
   "name": "python3"
  },
  "language_info": {
   "codemirror_mode": {
    "name": "ipython",
    "version": 3
   },
   "file_extension": ".py",
   "mimetype": "text/x-python",
   "name": "python",
   "nbconvert_exporter": "python",
   "pygments_lexer": "ipython3",
   "version": "3.10.8"
  }
 },
 "nbformat": 4,
 "nbformat_minor": 5
}
