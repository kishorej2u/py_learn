{
 "cells": [
  {
   "cell_type": "code",
   "execution_count": 2,
   "id": "5b3a38be",
   "metadata": {},
   "outputs": [
    {
     "name": "stdout",
     "output_type": "stream",
     "text": [
      "printing string\n"
     ]
    }
   ],
   "source": [
    "#print string\n",
    "print('printing string')"
   ]
  },
  {
   "cell_type": "code",
   "execution_count": 3,
   "id": "314723e4",
   "metadata": {},
   "outputs": [
    {
     "name": "stdout",
     "output_type": "stream",
     "text": [
      "this is single \"quotes\"\n",
      "this is double 'quotes' \n",
      "this is kishore\"s \n"
     ]
    }
   ],
   "source": [
    "#quotes\n",
    "print('this is single \"quotes\"')\n",
    "print(\"this is double 'quotes' \")\n",
    "print('this is kishore\"s ')"
   ]
  },
  {
   "cell_type": "code",
   "execution_count": 6,
   "id": "4f071101",
   "metadata": {},
   "outputs": [
    {
     "name": "stdout",
     "output_type": "stream",
     "text": [
      "hello\n",
      "h\n"
     ]
    }
   ],
   "source": [
    "a= 'hello'\n",
    "print(a)\n",
    "print(a[0])"
   ]
  },
  {
   "cell_type": "code",
   "execution_count": 5,
   "id": "75538a2b",
   "metadata": {},
   "outputs": [
    {
     "name": "stdout",
     "output_type": "stream",
     "text": [
      "this is a multi \n",
      "    line string\n",
      "    hola\n"
     ]
    }
   ],
   "source": [
    "#multi line string\n",
    "b = '''this is a multi \n",
    "    line string\n",
    "    hola'''\n",
    "print(b)"
   ]
  },
  {
   "cell_type": "code",
   "execution_count": 7,
   "id": "2a47afa0",
   "metadata": {},
   "outputs": [
    {
     "name": "stdout",
     "output_type": "stream",
     "text": [
      "i\n",
      "n\n",
      "t\n",
      "e\n",
      "r\n",
      "s\n",
      "t\n",
      "e\n",
      "l\n",
      "l\n",
      "a\n",
      "r\n"
     ]
    }
   ],
   "source": [
    "c = 'interstellar'\n",
    "for i in c:\n",
    "    print(i)"
   ]
  },
  {
   "cell_type": "code",
   "execution_count": 8,
   "id": "ce30ce82",
   "metadata": {},
   "outputs": [
    {
     "name": "stdout",
     "output_type": "stream",
     "text": [
      "12\n"
     ]
    }
   ],
   "source": [
    "print(len(c))"
   ]
  },
  {
   "cell_type": "code",
   "execution_count": 9,
   "id": "591ec487",
   "metadata": {},
   "outputs": [
    {
     "name": "stdout",
     "output_type": "stream",
     "text": [
      "True\n"
     ]
    }
   ],
   "source": [
    "c='interstellar'\n",
    "print('inter' in c)"
   ]
  },
  {
   "cell_type": "code",
   "execution_count": 11,
   "id": "89d804a5",
   "metadata": {},
   "outputs": [
    {
     "name": "stdout",
     "output_type": "stream",
     "text": [
      "True\n",
      "No, 'expensive' is NOT present.\n"
     ]
    }
   ],
   "source": [
    "txt = \"The best things in life are free!\"\n",
    "print(\"expensive\" not in txt)\n",
    "\n",
    "txt = \"The best things in life are free!\"\n",
    "if \"expensive\" not in txt:\n",
    "  print(\"No, 'expensive' is NOT present.\")"
   ]
  },
  {
   "cell_type": "markdown",
   "id": "db3ca2f3",
   "metadata": {},
   "source": [
    "========================Slicing========================"
   ]
  },
  {
   "cell_type": "code",
   "execution_count": 26,
   "id": "557f135f",
   "metadata": {},
   "outputs": [
    {
     "name": "stdout",
     "output_type": "stream",
     "text": [
      "interstellar\n",
      "ter\n",
      "inter\n",
      "stellar\n",
      "interstella\n",
      "r\n",
      "interstellar\n",
      "ralletsretni\n"
     ]
    }
   ],
   "source": [
    "print(c)\n",
    "print(c[2:5])\n",
    "print(c[:5])\n",
    "print(c[5:])\n",
    "print(c[-12:-1])\n",
    "print(c[-1])\n",
    "print(c[::])\n",
    "print(c[::-1])"
   ]
  },
  {
   "cell_type": "code",
   "execution_count": 38,
   "id": "1a2636e9",
   "metadata": {},
   "outputs": [
    {
     "name": "stdout",
     "output_type": "stream",
     "text": [
      "INTER STELLAR \n",
      "inter stellar \n",
      "inter stellar \n",
      "nter stellar \n",
      "inter ste11ar \n",
      "inter stellar \n",
      "['int', 'r st', 'llar ']\n",
      "inter stellar \n"
     ]
    }
   ],
   "source": [
    "print(c.upper())\n",
    "print(c)\n",
    "print(c.lower())\n",
    "c='inter stellar '\n",
    "print(c.strip('i'))\n",
    "print(c.replace('l','1'))\n",
    "print(c)\n",
    "print(c.split('e'))\n",
    "print(c)\n"
   ]
  },
  {
   "cell_type": "code",
   "execution_count": 44,
   "id": "2c535729",
   "metadata": {},
   "outputs": [
    {
     "name": "stdout",
     "output_type": "stream",
     "text": [
      "hello arha\n",
      "arha is 2\n",
      "arha is 2\n",
      "The price is 1180 dollars\n"
     ]
    }
   ],
   "source": [
    "d = 'hello'\n",
    "e= 'arha'\n",
    "print(d+' '+e)\n",
    "age = 2\n",
    "f = f\"arha is {age}\"\n",
    "print(f)\n",
    "g = 'arha is ' + str(age)\n",
    "print(g)\n",
    "txt = f\"The price is {20 * 59} dollars\"\n",
    "print(txt)"
   ]
  }
 ],
 "metadata": {
  "kernelspec": {
   "display_name": "Python 3",
   "language": "python",
   "name": "python3"
  },
  "language_info": {
   "codemirror_mode": {
    "name": "ipython",
    "version": 3
   },
   "file_extension": ".py",
   "mimetype": "text/x-python",
   "name": "python",
   "nbconvert_exporter": "python",
   "pygments_lexer": "ipython3",
   "version": "3.10.8"
  }
 },
 "nbformat": 4,
 "nbformat_minor": 5
}
