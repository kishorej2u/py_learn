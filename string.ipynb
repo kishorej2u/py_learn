{
 "cells": [
  {
   "cell_type": "code",
   "execution_count": null,
   "id": "5b3a38be",
   "metadata": {},
   "outputs": [],
   "source": []
  }
 ],
 "metadata": {
  "kernelspec": {
   "display_name": "Python 3",
   "language": "python",
   "name": "python3"
  },
  "language_info": {
   "name": "python",
   "version": "3.10.8"
  }
 },
 "nbformat": 4,
 "nbformat_minor": 5
}
