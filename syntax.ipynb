{
 "cells": [
  {
   "cell_type": "code",
   "execution_count": 6,
   "id": "e8b31ac0",
   "metadata": {},
   "outputs": [
    {
     "name": "stdout",
     "output_type": "stream",
     "text": [
      "hello world\n",
      "helo guys\n"
     ]
    }
   ],
   "source": [
    "a = 'hello world'\n",
    "print(a)\n",
    "print('helo guys')"
   ]
  },
  {
   "cell_type": "code",
   "execution_count": 7,
   "id": "5ff30021",
   "metadata": {},
   "outputs": [
    {
     "name": "stdout",
     "output_type": "stream",
     "text": [
      "hello world\n"
     ]
    }
   ],
   "source": [
    "print(a)"
   ]
  },
  {
   "cell_type": "markdown",
   "id": "ec75651a",
   "metadata": {},
   "source": [
    "this is basic syntax\n"
   ]
  },
  {
   "cell_type": "code",
   "execution_count": null,
   "id": "e24f7a16",
   "metadata": {},
   "outputs": [],
   "source": [
    "if 5>2:\n",
    "    print('5 is greater than 2')\n",
    "else:\n",
    "    print('else ')"
   ]
  }
 ],
 "metadata": {
  "kernelspec": {
   "display_name": "Python 3",
   "language": "python",
   "name": "python3"
  },
  "language_info": {
   "codemirror_mode": {
    "name": "ipython",
    "version": 3
   },
   "file_extension": ".py",
   "mimetype": "text/x-python",
   "name": "python",
   "nbconvert_exporter": "python",
   "pygments_lexer": "ipython3",
   "version": "3.10.8"
  }
 },
 "nbformat": 4,
 "nbformat_minor": 5
}
